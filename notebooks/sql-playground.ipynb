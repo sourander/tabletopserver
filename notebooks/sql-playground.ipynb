{
 "cells": [
  {
   "cell_type": "markdown",
   "metadata": {},
   "source": [
    "# Pandas and Sqlite testing"
   ]
  },
  {
   "cell_type": "code",
   "execution_count": 150,
   "metadata": {},
   "outputs": [],
   "source": [
    "import sqlite3\n",
    "import pandas as pd"
   ]
  },
  {
   "cell_type": "code",
   "execution_count": 151,
   "metadata": {},
   "outputs": [],
   "source": [
    "# Define config\n",
    "\n",
    "DATABASE_PATH = 'corpus.db'\n",
    "SQLALCHEMY_DB_URI = 'sqlite:///' + DATABASE_PATH"
   ]
  },
  {
   "cell_type": "code",
   "execution_count": 159,
   "metadata": {},
   "outputs": [],
   "source": [
    "with sqlite3.connect(DATABASE_PATH) as conn:\n",
    "    df = pd.read_sql_query(\"SELECT * from words\", conn, index_col='id')\n",
    "    \n",
    "# Count duplicates\n",
    "df_dups = df.pivot_table(index = ['word'], aggfunc ='size')\n",
    "\n",
    "assert len(df_dups[df_dups > 1]) == 0, 'There are duplicates in the title table'"
   ]
  },
  {
   "cell_type": "markdown",
   "metadata": {},
   "source": [
    "# SQLalchemy testing"
   ]
  },
  {
   "cell_type": "code",
   "execution_count": 164,
   "metadata": {
    "pycharm": {
     "name": "#%%\n"
    }
   },
   "outputs": [],
   "source": [
    "import sqlalchemy as db\n",
    "from sqlalchemy.ext.declarative import declarative_base\n",
    "from sqlalchemy.orm import sessionmaker"
   ]
  },
  {
   "cell_type": "code",
   "execution_count": 165,
   "metadata": {
    "pycharm": {
     "name": "#%%\n"
    }
   },
   "outputs": [],
   "source": [
    "engine = db.create_engine(SQLALCHEMY_DB_URI, echo=True)\n",
    "Session = sessionmaker(bind=engine)\n",
    "session = Session()"
   ]
  },
  {
   "cell_type": "code",
   "execution_count": 166,
   "metadata": {},
   "outputs": [],
   "source": [
    "Base = declarative_base()\n",
    "\n",
    "class Word(Base):\n",
    "    __tablename__ = 'words'\n",
    "    \n",
    "    word__id = db.Column('id', db.Integer, primary_key=True, nullable=False)\n",
    "    word = db.Column(db.String(18), nullable=False)\n",
    "    is_verb = db.Column(db.Boolean, nullable=False)\n",
    "    is_subs = db.Column(db.Boolean, nullable=False)\n",
    "    is_adje = db.Column(db.Boolean, nullable=False)\n",
    "    is_nume = db.Column(db.Boolean, nullable=False)\n",
    "    is_name = db.Column(db.Boolean, nullable=False)\n",
    "    difficulty = db.Column(db.Integer, nullable=False, default=0)\n",
    "    \n",
    "    def __init__(self, word_id, word, is_verb, is_subs, is_adje, is_nume, is_name, difficulty):\n",
    "        self.word_id = name\n",
    "        self.word = word\n",
    "        self.is_verb = is_verb\n",
    "        self.is_subs = is_subs\n",
    "        self.is_adje = is_adje\n",
    "        self.is_nume = is_nume\n",
    "        self. is_name = is_name\n",
    "        self.difficulty = difficulty\n",
    "    \n",
    "    def __repr__(self):\n",
    "        return f'Word: {self.word}'"
   ]
  },
  {
   "cell_type": "code",
   "execution_count": 167,
   "metadata": {},
   "outputs": [
    {
     "name": "stdout",
     "output_type": "stream",
     "text": [
      "2020-09-12 18:26:28,912 INFO sqlalchemy.engine.base.Engine SELECT CAST('test plain returns' AS VARCHAR(60)) AS anon_1\n",
      "2020-09-12 18:26:28,913 INFO sqlalchemy.engine.base.Engine ()\n",
      "2020-09-12 18:26:28,914 INFO sqlalchemy.engine.base.Engine SELECT CAST('test unicode returns' AS VARCHAR(60)) AS anon_1\n",
      "2020-09-12 18:26:28,914 INFO sqlalchemy.engine.base.Engine ()\n",
      "2020-09-12 18:26:28,915 INFO sqlalchemy.engine.base.Engine BEGIN (implicit)\n",
      "2020-09-12 18:26:28,916 INFO sqlalchemy.engine.base.Engine SELECT count(*) AS count_1 \n",
      "FROM (SELECT words.id AS words_id, words.word AS words_word, words.is_verb AS words_is_verb, words.is_subs AS words_is_subs, words.is_adje AS words_is_adje, words.is_nume AS words_is_nume, words.is_name AS words_is_name, words.difficulty AS words_difficulty \n",
      "FROM words) AS anon_1\n",
      "2020-09-12 18:26:28,917 INFO sqlalchemy.engine.base.Engine ()\n"
     ]
    },
    {
     "data": {
      "text/plain": [
       "34348"
      ]
     },
     "execution_count": 167,
     "metadata": {},
     "output_type": "execute_result"
    }
   ],
   "source": [
    "session.query(Word).count()"
   ]
  },
  {
   "cell_type": "code",
   "execution_count": 205,
   "metadata": {},
   "outputs": [
    {
     "name": "stdout",
     "output_type": "stream",
     "text": [
      "2020-09-12 18:31:00,153 INFO sqlalchemy.engine.base.Engine SELECT words.id AS words_id, words.word AS words_word, words.is_verb AS words_is_verb, words.is_subs AS words_is_subs, words.is_adje AS words_is_adje, words.is_nume AS words_is_nume, words.is_name AS words_is_name, words.difficulty AS words_difficulty \n",
      "FROM words \n",
      "WHERE words.difficulty <= ? ORDER BY random()\n",
      " LIMIT ? OFFSET ?\n",
      "2020-09-12 18:31:00,154 INFO sqlalchemy.engine.base.Engine (1, 5, 0)\n"
     ]
    }
   ],
   "source": [
    "result = session.query(Word).filter(Word.difficulty <= 1).order_by(db.func.random()).limit(5).all()"
   ]
  },
  {
   "cell_type": "code",
   "execution_count": 206,
   "metadata": {},
   "outputs": [
    {
     "data": {
      "text/plain": [
       "[Word: köyttää,\n",
       " Word: piipunperät,\n",
       " Word: ärähdys,\n",
       " Word: kuihtua,\n",
       " Word: epäluuloisuus]"
      ]
     },
     "execution_count": 206,
     "metadata": {},
     "output_type": "execute_result"
    }
   ],
   "source": [
    "result"
   ]
  },
  {
   "cell_type": "code",
   "execution_count": 213,
   "metadata": {},
   "outputs": [],
   "source": [
    "BASEDIR = os.getcwd()\n",
    "DB_FOLDER = 'notebooks'\n",
    "DB_FILENAME = 'corpus.db'\n",
    "DB_FULLPATH = os.path.join(BASEDIR, DB_FOLDER, DB_FILENAME)"
   ]
  },
  {
   "cell_type": "code",
   "execution_count": 212,
   "metadata": {},
   "outputs": [
    {
     "ename": "NameError",
     "evalue": "name '__file__' is not defined",
     "output_type": "error",
     "traceback": [
      "\u001b[1;31m---------------------------------------------------------------------------\u001b[0m",
      "\u001b[1;31mNameError\u001b[0m                                 Traceback (most recent call last)",
      "\u001b[1;32m<ipython-input-212-07563b5927f7>\u001b[0m in \u001b[0;36m<module>\u001b[1;34m\u001b[0m\n\u001b[1;32m----> 1\u001b[1;33m \u001b[0mprint\u001b[0m\u001b[1;33m(\u001b[0m\u001b[0mos\u001b[0m\u001b[1;33m.\u001b[0m\u001b[0mpath\u001b[0m\u001b[1;33m.\u001b[0m\u001b[0mdirname\u001b[0m\u001b[1;33m(\u001b[0m\u001b[0mos\u001b[0m\u001b[1;33m.\u001b[0m\u001b[0mpath\u001b[0m\u001b[1;33m.\u001b[0m\u001b[0mrealpath\u001b[0m\u001b[1;33m(\u001b[0m\u001b[0m__file__\u001b[0m\u001b[1;33m)\u001b[0m\u001b[1;33m)\u001b[0m\u001b[1;33m)\u001b[0m\u001b[1;33m\u001b[0m\u001b[1;33m\u001b[0m\u001b[0m\n\u001b[0m",
      "\u001b[1;31mNameError\u001b[0m: name '__file__' is not defined"
     ]
    }
   ],
   "source": [
    "print(os.path.dirname(os.path.realpath(__file__)))"
   ]
  },
  {
   "cell_type": "code",
   "execution_count": 214,
   "metadata": {},
   "outputs": [
    {
     "data": {
      "text/plain": [
       "'C:\\\\Users\\\\soura\\\\PycharmProjects\\\\tabletopserver\\\\notebooks\\\\notebooks\\\\corpus.db'"
      ]
     },
     "execution_count": 214,
     "metadata": {},
     "output_type": "execute_result"
    }
   ],
   "source": [
    "DB_FULLPATH"
   ]
  },
  {
   "cell_type": "code",
   "execution_count": null,
   "metadata": {},
   "outputs": [],
   "source": []
  }
 ],
 "metadata": {
  "kernelspec": {
   "display_name": "Python 3",
   "language": "python",
   "name": "python3"
  },
  "language_info": {
   "codemirror_mode": {
    "name": "ipython",
    "version": 3
   },
   "file_extension": ".py",
   "mimetype": "text/x-python",
   "name": "python",
   "nbconvert_exporter": "python",
   "pygments_lexer": "ipython3",
   "version": "3.6.8"
  }
 },
 "nbformat": 4,
 "nbformat_minor": 4
}
